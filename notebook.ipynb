{
  "cells": [
    {
      "cell_type": "code",
      "execution_count": 1,
      "metadata": {
        "colab": {
          "base_uri": "https://localhost:8080/",
          "height": 1000
        },
        "id": "IXN1sa53ceZx",
        "outputId": "6a2c4998-5e24-4218-cc61-52f5a0e7f5c8"
      },
      "outputs": [
        {
          "name": "stdout",
          "output_type": "stream",
          "text": [
            "Collecting tensorflow-federated==0.19.0\n",
            "  Downloading tensorflow_federated-0.19.0-py2.py3-none-any.whl (602 kB)\n",
            "\u001b[?25l\r\u001b[K     |▌                               | 10 kB 20.0 MB/s eta 0:00:01\r\u001b[K     |█                               | 20 kB 25.7 MB/s eta 0:00:01\r\u001b[K     |█▋                              | 30 kB 28.3 MB/s eta 0:00:01\r\u001b[K     |██▏                             | 40 kB 19.3 MB/s eta 0:00:01\r\u001b[K     |██▊                             | 51 kB 15.6 MB/s eta 0:00:01\r\u001b[K     |███▎                            | 61 kB 17.6 MB/s eta 0:00:01\r\u001b[K     |███▉                            | 71 kB 14.5 MB/s eta 0:00:01\r\u001b[K     |████▍                           | 81 kB 13.2 MB/s eta 0:00:01\r\u001b[K     |█████                           | 92 kB 14.4 MB/s eta 0:00:01\r\u001b[K     |█████▍                          | 102 kB 15.5 MB/s eta 0:00:01\r\u001b[K     |██████                          | 112 kB 15.5 MB/s eta 0:00:01\r\u001b[K     |██████▌                         | 122 kB 15.5 MB/s eta 0:00:01\r\u001b[K     |███████                         | 133 kB 15.5 MB/s eta 0:00:01\r\u001b[K     |███████▋                        | 143 kB 15.5 MB/s eta 0:00:01\r\u001b[K     |████████▏                       | 153 kB 15.5 MB/s eta 0:00:01\r\u001b[K     |████████▊                       | 163 kB 15.5 MB/s eta 0:00:01\r\u001b[K     |█████████▎                      | 174 kB 15.5 MB/s eta 0:00:01\r\u001b[K     |█████████▉                      | 184 kB 15.5 MB/s eta 0:00:01\r\u001b[K     |██████████▍                     | 194 kB 15.5 MB/s eta 0:00:01\r\u001b[K     |██████████▉                     | 204 kB 15.5 MB/s eta 0:00:01\r\u001b[K     |███████████▍                    | 215 kB 15.5 MB/s eta 0:00:01\r\u001b[K     |████████████                    | 225 kB 15.5 MB/s eta 0:00:01\r\u001b[K     |████████████▌                   | 235 kB 15.5 MB/s eta 0:00:01\r\u001b[K     |█████████████                   | 245 kB 15.5 MB/s eta 0:00:01\r\u001b[K     |█████████████▋                  | 256 kB 15.5 MB/s eta 0:00:01\r\u001b[K     |██████████████▏                 | 266 kB 15.5 MB/s eta 0:00:01\r\u001b[K     |██████████████▊                 | 276 kB 15.5 MB/s eta 0:00:01\r\u001b[K     |███████████████▎                | 286 kB 15.5 MB/s eta 0:00:01\r\u001b[K     |███████████████▊                | 296 kB 15.5 MB/s eta 0:00:01\r\u001b[K     |████████████████▎               | 307 kB 15.5 MB/s eta 0:00:01\r\u001b[K     |████████████████▉               | 317 kB 15.5 MB/s eta 0:00:01\r\u001b[K     |█████████████████▍              | 327 kB 15.5 MB/s eta 0:00:01\r\u001b[K     |██████████████████              | 337 kB 15.5 MB/s eta 0:00:01\r\u001b[K     |██████████████████▌             | 348 kB 15.5 MB/s eta 0:00:01\r\u001b[K     |███████████████████             | 358 kB 15.5 MB/s eta 0:00:01\r\u001b[K     |███████████████████▋            | 368 kB 15.5 MB/s eta 0:00:01\r\u001b[K     |████████████████████▏           | 378 kB 15.5 MB/s eta 0:00:01\r\u001b[K     |████████████████████▊           | 389 kB 15.5 MB/s eta 0:00:01\r\u001b[K     |█████████████████████▏          | 399 kB 15.5 MB/s eta 0:00:01\r\u001b[K     |█████████████████████▊          | 409 kB 15.5 MB/s eta 0:00:01\r\u001b[K     |██████████████████████▎         | 419 kB 15.5 MB/s eta 0:00:01\r\u001b[K     |██████████████████████▉         | 430 kB 15.5 MB/s eta 0:00:01\r\u001b[K     |███████████████████████▍        | 440 kB 15.5 MB/s eta 0:00:01\r\u001b[K     |████████████████████████        | 450 kB 15.5 MB/s eta 0:00:01\r\u001b[K     |████████████████████████▌       | 460 kB 15.5 MB/s eta 0:00:01\r\u001b[K     |█████████████████████████       | 471 kB 15.5 MB/s eta 0:00:01\r\u001b[K     |█████████████████████████▋      | 481 kB 15.5 MB/s eta 0:00:01\r\u001b[K     |██████████████████████████▏     | 491 kB 15.5 MB/s eta 0:00:01\r\u001b[K     |██████████████████████████▋     | 501 kB 15.5 MB/s eta 0:00:01\r\u001b[K     |███████████████████████████▏    | 512 kB 15.5 MB/s eta 0:00:01\r\u001b[K     |███████████████████████████▊    | 522 kB 15.5 MB/s eta 0:00:01\r\u001b[K     |████████████████████████████▎   | 532 kB 15.5 MB/s eta 0:00:01\r\u001b[K     |████████████████████████████▉   | 542 kB 15.5 MB/s eta 0:00:01\r\u001b[K     |█████████████████████████████▍  | 552 kB 15.5 MB/s eta 0:00:01\r\u001b[K     |██████████████████████████████  | 563 kB 15.5 MB/s eta 0:00:01\r\u001b[K     |██████████████████████████████▌ | 573 kB 15.5 MB/s eta 0:00:01\r\u001b[K     |███████████████████████████████ | 583 kB 15.5 MB/s eta 0:00:01\r\u001b[K     |███████████████████████████████▌| 593 kB 15.5 MB/s eta 0:00:01\r\u001b[K     |████████████████████████████████| 602 kB 15.5 MB/s \n",
            "\u001b[?25hRequirement already satisfied: tqdm~=4.28.1 in /usr/local/lib/python3.7/dist-packages (from tensorflow-federated==0.19.0) (4.28.1)\n",
            "Collecting tensorflow-privacy~=0.5.0\n",
            "  Downloading tensorflow_privacy-0.5.2-py3-none-any.whl (192 kB)\n",
            "\u001b[K     |████████████████████████████████| 192 kB 53.1 MB/s \n",
            "\u001b[?25hCollecting attrs~=19.3.0\n",
            "  Downloading attrs-19.3.0-py2.py3-none-any.whl (39 kB)\n",
            "Requirement already satisfied: jaxlib~=0.1.55 in /usr/local/lib/python3.7/dist-packages (from tensorflow-federated==0.19.0) (0.1.76)\n",
            "Collecting retrying~=1.3.3\n",
            "  Downloading retrying-1.3.3.tar.gz (10 kB)\n",
            "Collecting tensorflow~=2.5.0\n",
            "  Downloading tensorflow-2.5.3-cp37-cp37m-manylinux2010_x86_64.whl (460.3 MB)\n",
            "\u001b[K     |████████████████████████████████| 460.3 MB 7.2 kB/s \n",
            "\u001b[?25hCollecting tensorflow-model-optimization~=0.5.0\n",
            "  Downloading tensorflow_model_optimization-0.5.0-py2.py3-none-any.whl (172 kB)\n",
            "\u001b[K     |████████████████████████████████| 172 kB 51.7 MB/s \n",
            "\u001b[?25hRequirement already satisfied: grpcio~=1.34.0 in /usr/local/lib/python3.7/dist-packages (from tensorflow-federated==0.19.0) (1.34.1)\n",
            "Requirement already satisfied: cachetools~=3.1.1 in /usr/local/lib/python3.7/dist-packages (from tensorflow-federated==0.19.0) (3.1.1)\n",
            "Requirement already satisfied: jax~=0.2.8 in /usr/local/lib/python3.7/dist-packages (from tensorflow-federated==0.19.0) (0.2.28)\n",
            "Requirement already satisfied: portpicker~=1.3.1 in /usr/local/lib/python3.7/dist-packages (from tensorflow-federated==0.19.0) (1.3.9)\n",
            "Collecting absl-py~=0.10\n",
            "  Downloading absl_py-0.15.0-py3-none-any.whl (132 kB)\n",
            "\u001b[K     |████████████████████████████████| 132 kB 41.3 MB/s \n",
            "\u001b[?25hRequirement already satisfied: dm-tree~=0.1.1 in /usr/local/lib/python3.7/dist-packages (from tensorflow-federated==0.19.0) (0.1.6)\n",
            "Requirement already satisfied: semantic-version~=2.8.5 in /usr/local/lib/python3.7/dist-packages (from tensorflow-federated==0.19.0) (2.8.5)\n",
            "Collecting numpy~=1.19.2\n",
            "  Downloading numpy-1.19.5-cp37-cp37m-manylinux2010_x86_64.whl (14.8 MB)\n",
            "\u001b[K     |████████████████████████████████| 14.8 MB 45.3 MB/s \n",
            "\u001b[?25hRequirement already satisfied: six in /usr/local/lib/python3.7/dist-packages (from absl-py~=0.10->tensorflow-federated==0.19.0) (1.15.0)\n",
            "Requirement already satisfied: scipy>=1.2.1 in /usr/local/lib/python3.7/dist-packages (from jax~=0.2.8->tensorflow-federated==0.19.0) (1.4.1)\n",
            "Requirement already satisfied: opt-einsum in /usr/local/lib/python3.7/dist-packages (from jax~=0.2.8->tensorflow-federated==0.19.0) (3.3.0)\n",
            "Requirement already satisfied: typing-extensions in /usr/local/lib/python3.7/dist-packages (from jax~=0.2.8->tensorflow-federated==0.19.0) (3.10.0.2)\n",
            "Requirement already satisfied: flatbuffers<3.0,>=1.12 in /usr/local/lib/python3.7/dist-packages (from jaxlib~=0.1.55->tensorflow-federated==0.19.0) (2.0)\n",
            "Collecting flatbuffers<3.0,>=1.12\n",
            "  Downloading flatbuffers-1.12-py2.py3-none-any.whl (15 kB)\n",
            "Requirement already satisfied: tensorboard~=2.5 in /usr/local/lib/python3.7/dist-packages (from tensorflow~=2.5.0->tensorflow-federated==0.19.0) (2.8.0)\n",
            "Requirement already satisfied: h5py~=3.1.0 in /usr/local/lib/python3.7/dist-packages (from tensorflow~=2.5.0->tensorflow-federated==0.19.0) (3.1.0)\n",
            "Requirement already satisfied: protobuf>=3.9.2 in /usr/local/lib/python3.7/dist-packages (from tensorflow~=2.5.0->tensorflow-federated==0.19.0) (3.17.3)\n",
            "Requirement already satisfied: termcolor~=1.1.0 in /usr/local/lib/python3.7/dist-packages (from tensorflow~=2.5.0->tensorflow-federated==0.19.0) (1.1.0)\n",
            "Requirement already satisfied: keras-preprocessing~=1.1.2 in /usr/local/lib/python3.7/dist-packages (from tensorflow~=2.5.0->tensorflow-federated==0.19.0) (1.1.2)\n",
            "Collecting tensorflow-estimator<2.6.0,>=2.5.0\n",
            "  Downloading tensorflow_estimator-2.5.0-py2.py3-none-any.whl (462 kB)\n",
            "\u001b[K     |████████████████████████████████| 462 kB 55.4 MB/s \n",
            "\u001b[?25hCollecting wrapt~=1.12.1\n",
            "  Downloading wrapt-1.12.1.tar.gz (27 kB)\n",
            "Requirement already satisfied: google-pasta~=0.2 in /usr/local/lib/python3.7/dist-packages (from tensorflow~=2.5.0->tensorflow-federated==0.19.0) (0.2.0)\n",
            "Collecting gast==0.4.0\n",
            "  Downloading gast-0.4.0-py3-none-any.whl (9.8 kB)\n",
            "Collecting keras-nightly~=2.5.0.dev\n",
            "  Downloading keras_nightly-2.5.0.dev2021032900-py2.py3-none-any.whl (1.2 MB)\n",
            "\u001b[K     |████████████████████████████████| 1.2 MB 42.4 MB/s \n",
            "\u001b[?25hRequirement already satisfied: astunparse~=1.6.3 in /usr/local/lib/python3.7/dist-packages (from tensorflow~=2.5.0->tensorflow-federated==0.19.0) (1.6.3)\n",
            "Requirement already satisfied: wheel~=0.35 in /usr/local/lib/python3.7/dist-packages (from tensorflow~=2.5.0->tensorflow-federated==0.19.0) (0.37.1)\n",
            "Collecting typing-extensions\n",
            "  Downloading typing_extensions-3.7.4.3-py3-none-any.whl (22 kB)\n",
            "Requirement already satisfied: cached-property in /usr/local/lib/python3.7/dist-packages (from h5py~=3.1.0->tensorflow~=2.5.0->tensorflow-federated==0.19.0) (1.5.2)\n",
            "Requirement already satisfied: setuptools>=41.0.0 in /usr/local/lib/python3.7/dist-packages (from tensorboard~=2.5->tensorflow~=2.5.0->tensorflow-federated==0.19.0) (57.4.0)\n",
            "Requirement already satisfied: werkzeug>=0.11.15 in /usr/local/lib/python3.7/dist-packages (from tensorboard~=2.5->tensorflow~=2.5.0->tensorflow-federated==0.19.0) (1.0.1)\n",
            "Requirement already satisfied: markdown>=2.6.8 in /usr/local/lib/python3.7/dist-packages (from tensorboard~=2.5->tensorflow~=2.5.0->tensorflow-federated==0.19.0) (3.3.6)\n",
            "Requirement already satisfied: requests<3,>=2.21.0 in /usr/local/lib/python3.7/dist-packages (from tensorboard~=2.5->tensorflow~=2.5.0->tensorflow-federated==0.19.0) (2.23.0)\n",
            "Requirement already satisfied: google-auth-oauthlib<0.5,>=0.4.1 in /usr/local/lib/python3.7/dist-packages (from tensorboard~=2.5->tensorflow~=2.5.0->tensorflow-federated==0.19.0) (0.4.6)\n",
            "Requirement already satisfied: tensorboard-data-server<0.7.0,>=0.6.0 in /usr/local/lib/python3.7/dist-packages (from tensorboard~=2.5->tensorflow~=2.5.0->tensorflow-federated==0.19.0) (0.6.1)\n",
            "Requirement already satisfied: tensorboard-plugin-wit>=1.6.0 in /usr/local/lib/python3.7/dist-packages (from tensorboard~=2.5->tensorflow~=2.5.0->tensorflow-federated==0.19.0) (1.8.1)\n",
            "Requirement already satisfied: google-auth<3,>=1.6.3 in /usr/local/lib/python3.7/dist-packages (from tensorboard~=2.5->tensorflow~=2.5.0->tensorflow-federated==0.19.0) (1.35.0)\n",
            "Requirement already satisfied: rsa<5,>=3.1.4 in /usr/local/lib/python3.7/dist-packages (from google-auth<3,>=1.6.3->tensorboard~=2.5->tensorflow~=2.5.0->tensorflow-federated==0.19.0) (4.8)\n",
            "Requirement already satisfied: pyasn1-modules>=0.2.1 in /usr/local/lib/python3.7/dist-packages (from google-auth<3,>=1.6.3->tensorboard~=2.5->tensorflow~=2.5.0->tensorflow-federated==0.19.0) (0.2.8)\n",
            "Requirement already satisfied: requests-oauthlib>=0.7.0 in /usr/local/lib/python3.7/dist-packages (from google-auth-oauthlib<0.5,>=0.4.1->tensorboard~=2.5->tensorflow~=2.5.0->tensorflow-federated==0.19.0) (1.3.1)\n",
            "Requirement already satisfied: importlib-metadata>=4.4 in /usr/local/lib/python3.7/dist-packages (from markdown>=2.6.8->tensorboard~=2.5->tensorflow~=2.5.0->tensorflow-federated==0.19.0) (4.11.2)\n",
            "Requirement already satisfied: zipp>=0.5 in /usr/local/lib/python3.7/dist-packages (from importlib-metadata>=4.4->markdown>=2.6.8->tensorboard~=2.5->tensorflow~=2.5.0->tensorflow-federated==0.19.0) (3.7.0)\n",
            "Requirement already satisfied: pyasn1<0.5.0,>=0.4.6 in /usr/local/lib/python3.7/dist-packages (from pyasn1-modules>=0.2.1->google-auth<3,>=1.6.3->tensorboard~=2.5->tensorflow~=2.5.0->tensorflow-federated==0.19.0) (0.4.8)\n",
            "Requirement already satisfied: idna<3,>=2.5 in /usr/local/lib/python3.7/dist-packages (from requests<3,>=2.21.0->tensorboard~=2.5->tensorflow~=2.5.0->tensorflow-federated==0.19.0) (2.10)\n",
            "Requirement already satisfied: urllib3!=1.25.0,!=1.25.1,<1.26,>=1.21.1 in /usr/local/lib/python3.7/dist-packages (from requests<3,>=2.21.0->tensorboard~=2.5->tensorflow~=2.5.0->tensorflow-federated==0.19.0) (1.24.3)\n",
            "Requirement already satisfied: certifi>=2017.4.17 in /usr/local/lib/python3.7/dist-packages (from requests<3,>=2.21.0->tensorboard~=2.5->tensorflow~=2.5.0->tensorflow-federated==0.19.0) (2021.10.8)\n",
            "Requirement already satisfied: chardet<4,>=3.0.2 in /usr/local/lib/python3.7/dist-packages (from requests<3,>=2.21.0->tensorboard~=2.5->tensorflow~=2.5.0->tensorflow-federated==0.19.0) (3.0.4)\n",
            "Requirement already satisfied: oauthlib>=3.0.0 in /usr/local/lib/python3.7/dist-packages (from requests-oauthlib>=0.7.0->google-auth-oauthlib<0.5,>=0.4.1->tensorboard~=2.5->tensorflow~=2.5.0->tensorflow-federated==0.19.0) (3.2.0)\n",
            "Requirement already satisfied: mpmath in /usr/local/lib/python3.7/dist-packages (from tensorflow-privacy~=0.5.0->tensorflow-federated==0.19.0) (1.2.1)\n",
            "Building wheels for collected packages: retrying, wrapt\n",
            "  Building wheel for retrying (setup.py) ... \u001b[?25l\u001b[?25hdone\n",
            "  Created wheel for retrying: filename=retrying-1.3.3-py3-none-any.whl size=11447 sha256=558539567d310e8acd378eed1a9300a6f12c32b80b8fda42e7f2e0bde2271ae6\n",
            "  Stored in directory: /root/.cache/pip/wheels/f9/8d/8d/f6af3f7f9eea3553bc2fe6d53e4b287dad18b06a861ac56ddf\n",
            "  Building wheel for wrapt (setup.py) ... \u001b[?25l\u001b[?25hdone\n",
            "  Created wheel for wrapt: filename=wrapt-1.12.1-cp37-cp37m-linux_x86_64.whl size=68715 sha256=45a4b5f3807ec8611248eca9b93b883a8f809320bea383c9ac7190399b910143\n",
            "  Stored in directory: /root/.cache/pip/wheels/62/76/4c/aa25851149f3f6d9785f6c869387ad82b3fd37582fa8147ac6\n",
            "Successfully built retrying wrapt\n",
            "Installing collected packages: typing-extensions, numpy, absl-py, wrapt, tensorflow-estimator, keras-nightly, gast, flatbuffers, tensorflow-privacy, tensorflow-model-optimization, tensorflow, retrying, attrs, tensorflow-federated\n",
            "  Attempting uninstall: typing-extensions\n",
            "    Found existing installation: typing-extensions 3.10.0.2\n",
            "    Uninstalling typing-extensions-3.10.0.2:\n",
            "      Successfully uninstalled typing-extensions-3.10.0.2\n",
            "  Attempting uninstall: numpy\n",
            "    Found existing installation: numpy 1.21.5\n",
            "    Uninstalling numpy-1.21.5:\n",
            "      Successfully uninstalled numpy-1.21.5\n",
            "  Attempting uninstall: absl-py\n",
            "    Found existing installation: absl-py 1.0.0\n",
            "    Uninstalling absl-py-1.0.0:\n",
            "      Successfully uninstalled absl-py-1.0.0\n",
            "  Attempting uninstall: wrapt\n",
            "    Found existing installation: wrapt 1.13.3\n",
            "    Uninstalling wrapt-1.13.3:\n",
            "      Successfully uninstalled wrapt-1.13.3\n",
            "  Attempting uninstall: tensorflow-estimator\n",
            "    Found existing installation: tensorflow-estimator 2.8.0\n",
            "    Uninstalling tensorflow-estimator-2.8.0:\n",
            "      Successfully uninstalled tensorflow-estimator-2.8.0\n",
            "  Attempting uninstall: gast\n",
            "    Found existing installation: gast 0.5.3\n",
            "    Uninstalling gast-0.5.3:\n",
            "      Successfully uninstalled gast-0.5.3\n",
            "  Attempting uninstall: flatbuffers\n",
            "    Found existing installation: flatbuffers 2.0\n",
            "    Uninstalling flatbuffers-2.0:\n",
            "      Successfully uninstalled flatbuffers-2.0\n",
            "  Attempting uninstall: tensorflow-privacy\n",
            "    Found existing installation: tensorflow-privacy 0.7.3\n",
            "    Uninstalling tensorflow-privacy-0.7.3:\n",
            "      Successfully uninstalled tensorflow-privacy-0.7.3\n",
            "  Attempting uninstall: tensorflow-model-optimization\n",
            "    Found existing installation: tensorflow-model-optimization 0.7.1\n",
            "    Uninstalling tensorflow-model-optimization-0.7.1:\n",
            "      Successfully uninstalled tensorflow-model-optimization-0.7.1\n",
            "  Attempting uninstall: tensorflow\n",
            "    Found existing installation: tensorflow 2.8.0\n",
            "    Uninstalling tensorflow-2.8.0:\n",
            "      Successfully uninstalled tensorflow-2.8.0\n",
            "  Attempting uninstall: attrs\n",
            "    Found existing installation: attrs 21.2.0\n",
            "    Uninstalling attrs-21.2.0:\n",
            "      Successfully uninstalled attrs-21.2.0\n",
            "  Attempting uninstall: tensorflow-federated\n",
            "    Found existing installation: tensorflow-federated 0.20.0\n",
            "    Uninstalling tensorflow-federated-0.20.0:\n",
            "      Successfully uninstalled tensorflow-federated-0.20.0\n",
            "\u001b[31mERROR: pip's dependency resolver does not currently take into account all the packages that are installed. This behaviour is the source of the following dependency conflicts.\n",
            "spacy 2.2.4 requires tqdm<5.0.0,>=4.38.0, but you have tqdm 4.28.1 which is incompatible.\n",
            "pymc3 3.11.4 requires cachetools>=4.2.1, but you have cachetools 3.1.1 which is incompatible.\n",
            "fbprophet 0.7.1 requires tqdm>=4.36.1, but you have tqdm 4.28.1 which is incompatible.\n",
            "datascience 0.10.6 requires folium==0.2.1, but you have folium 0.8.3 which is incompatible.\n",
            "albumentations 0.1.12 requires imgaug<0.2.7,>=0.2.5, but you have imgaug 0.2.9 which is incompatible.\u001b[0m\n",
            "Successfully installed absl-py-0.15.0 attrs-19.3.0 flatbuffers-1.12 gast-0.4.0 keras-nightly-2.5.0.dev2021032900 numpy-1.19.5 retrying-1.3.3 tensorflow-2.5.3 tensorflow-estimator-2.5.0 tensorflow-federated-0.19.0 tensorflow-model-optimization-0.5.0 tensorflow-privacy-0.5.2 typing-extensions-3.7.4.3 wrapt-1.12.1\n"
          ]
        },
        {
          "data": {
            "application/vnd.colab-display-data+json": {
              "pip_warning": {
                "packages": [
                  "numpy"
                ]
              }
            }
          },
          "metadata": {},
          "output_type": "display_data"
        }
      ],
      "source": [
        "!pip install tensorflow-federated==0.19.0"
      ]
    },
    {
      "cell_type": "code",
      "execution_count": 2,
      "metadata": {
        "id": "0APQ84BAb_rR"
      },
      "outputs": [],
      "source": [
        "import pandas as pd\n",
        "import tensorflow as tf\n",
        "import tensorflow_federated as tff\n",
        "\n",
        "csv_url = \"https://docs.google.com/spreadsheets/d/1eJo2yOTVLPjcIbwe8qSQlFNpyMhYj-xVnNVUTAhwfNU/gviz/tq?tqx=out:csv\"\n",
        "\n",
        "df = pd.read_csv(csv_url, na_values=(\"?\",))\n",
        "\n",
        "client_id_colname = 'native.country' # the column that represents client ID\n",
        "SHUFFLE_BUFFER = 1000\n",
        "NUM_EPOCHS = 1"
      ]
    },
    {
      "cell_type": "code",
      "execution_count": 3,
      "metadata": {
        "colab": {
          "base_uri": "https://localhost:8080/"
        },
        "id": "OhauTgBie5GF",
        "outputId": "9280c539-c2e6-43b2-a5a4-e404f951ad3d"
      },
      "outputs": [
        {
          "name": "stdout",
          "output_type": "stream",
          "text": [
            "[['Peru'], ['Iran'], ['Nicaragua'], ['Outlying-US(Guam-USVI-etc)'], ['India'], ['Jamaica'], ['Japan'], ['Trinadad&Tobago'], ['Yugoslavia'], ['France'], ['Holand-Netherlands'], ['Portugal'], ['Columbia'], ['South'], ['United-States'], [nan], ['Thailand'], ['Vietnam'], ['Puerto-Rico'], ['Italy'], ['England']]\n"
          ]
        }
      ],
      "source": [
        "# split client id into train and test clients\n",
        "client_ids = df[client_id_colname].unique()\n",
        "train_client_ids = pd.DataFrame(client_ids).sample(frac=0.5).values.tolist()"
      ]
    },
    {
      "cell_type": "code",
      "execution_count": 15,
      "metadata": {
        "colab": {
          "base_uri": "https://localhost:8080/"
        },
        "id": "x3V2gfUVefGS",
        "outputId": "867370b2-4045-450d-e819-bdf5338096e0"
      },
      "outputs": [
        {
          "name": "stdout",
          "output_type": "stream",
          "text": [
            "['United-States', nan, 'Mexico', 'Greece', 'Vietnam', 'China', 'Taiwan', 'India', 'Philippines', 'Trinadad&Tobago', 'Canada', 'South', 'Holand-Netherlands', 'Puerto-Rico', 'Poland', 'Iran', 'England', 'Germany', 'Italy', 'Japan', 'Hong', 'Honduras', 'Cuba', 'Ireland', 'Cambodia', 'Peru', 'Nicaragua', 'Dominican-Republic', 'Haiti', 'El-Salvador', 'Hungary', 'Columbia', 'Guatemala', 'Jamaica', 'Ecuador', 'France', 'Yugoslavia', 'Scotland', 'Portugal', 'Laos', 'Thailand', 'Outlying-US(Guam-USVI-etc)']\n"
          ]
        }
      ],
      "source": [
        "test_client_ids = [x for x in client_ids if x not in train_client_ids]"
      ]
    },
    {
      "cell_type": "code",
      "execution_count": 69,
      "metadata": {
        "id": "DnttCDTncKFI"
      },
      "outputs": [],
      "source": [
        "def create_tf_dataset_for_client_fn(client_id):\n",
        "  # a function which takes a client_id and returns a\n",
        "  # tf.data.Dataset for that client\n",
        "  # print(client_id)\n",
        "  client_data = df[df[client_id_colname] == client_id[0]]\n",
        "  # print(client_data)\n",
        "  dataset = tf.data.Dataset.from_tensor_slices(client_data.fillna('').to_dict(\"list\"))\n",
        "  dataset = dataset.shuffle(SHUFFLE_BUFFER).batch(1).repeat(NUM_EPOCHS)\n",
        "  return dataset"
      ]
    },
    {
      "cell_type": "code",
      "execution_count": 71,
      "metadata": {
        "id": "oJq1_hDicNdA"
      },
      "outputs": [],
      "source": [
        "train_data = tff.simulation.datasets.ClientData.from_clients_and_fn(\n",
        "        client_ids=train_client_ids,\n",
        "        create_tf_dataset_for_client_fn=create_tf_dataset_for_client_fn\n",
        "    )\n",
        "test_data = tff.simulation.datasets.ClientData.from_clients_and_fn(\n",
        "        client_ids=test_client_ids,\n",
        "        create_tf_dataset_for_client_fn=create_tf_dataset_for_client_fn\n",
        "    )"
      ]
    },
    {
      "cell_type": "code",
      "execution_count": 72,
      "metadata": {
        "colab": {
          "base_uri": "https://localhost:8080/"
        },
        "id": "EXyYrPz4cS7Y",
        "outputId": "986a62a7-a84a-49a1-9e50-093c18dc206d"
      },
      "outputs": [
        {
          "name": "stdout",
          "output_type": "stream",
          "text": [
            "<class 'tensorflow.python.data.ops.dataset_ops.RepeatDataset'>\n",
            "{'age': <tf.Tensor: shape=(1,), dtype=int32, numpy=array([48], dtype=int32)>, 'workclass': <tf.Tensor: shape=(1,), dtype=string, numpy=array([b'Private'], dtype=object)>, 'fnlwgt': <tf.Tensor: shape=(1,), dtype=int32, numpy=array([280422], dtype=int32)>, 'education': <tf.Tensor: shape=(1,), dtype=string, numpy=array([b'Some-college'], dtype=object)>, 'education.num': <tf.Tensor: shape=(1,), dtype=int32, numpy=array([10], dtype=int32)>, 'marital.status': <tf.Tensor: shape=(1,), dtype=string, numpy=array([b'Separated'], dtype=object)>, 'occupation': <tf.Tensor: shape=(1,), dtype=string, numpy=array([b'Other-service'], dtype=object)>, 'relationship': <tf.Tensor: shape=(1,), dtype=string, numpy=array([b'Not-in-family'], dtype=object)>, 'race': <tf.Tensor: shape=(1,), dtype=string, numpy=array([b'White'], dtype=object)>, 'sex': <tf.Tensor: shape=(1,), dtype=string, numpy=array([b'Female'], dtype=object)>, 'capital.gain': <tf.Tensor: shape=(1,), dtype=int32, numpy=array([0], dtype=int32)>, 'capital.loss': <tf.Tensor: shape=(1,), dtype=int32, numpy=array([0], dtype=int32)>, 'hours.per.week': <tf.Tensor: shape=(1,), dtype=int32, numpy=array([25], dtype=int32)>, 'native.country': <tf.Tensor: shape=(1,), dtype=string, numpy=array([b'Peru'], dtype=object)>, 'income': <tf.Tensor: shape=(1,), dtype=string, numpy=array([b'<=50K'], dtype=object)>}\n"
          ]
        }
      ],
      "source": [
        "example_dataset = train_data.create_tf_dataset_for_client(\n",
        "        train_data.client_ids[0]\n",
        "    )\n",
        "\n",
        "print(type(example_dataset))\n",
        "example_element = iter(example_dataset).next()\n",
        "print(example_element)\n",
        "# <class 'tensorflow.python.data.ops.dataset_ops.RepeatDataset'>\n",
        "# {'age': <tf.Tensor: shape=(1,), dtype=int32, numpy=array([37], dtype=int32)>, 'workclass': <tf.Tensor: shape=(1,), dtype=string, numpy=array([b'Local-gov'], dtype=object)>, ..."
      ]
    }
  ],
  "metadata": {
    "colab": {
      "collapsed_sections": [],
      "name": "Untitled2.ipynb",
      "provenance": []
    },
    "kernelspec": {
      "display_name": "Python 3",
      "name": "python3"
    },
    "language_info": {
      "name": "python"
    }
  },
  "nbformat": 4,
  "nbformat_minor": 0
}
